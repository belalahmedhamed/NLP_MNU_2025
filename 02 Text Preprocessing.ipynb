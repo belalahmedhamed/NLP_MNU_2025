{
 "cells": [
  {
   "cell_type": "markdown",
   "metadata": {},
   "source": [
    "# Section 2 : Text Preprocessing\n",
    "\n",
    "- Tokenization\n",
    "- Stop Word removal\n",
    "- Stemming vs. Lemmatization\n",
    "- Lowercasing, punctuation removal \n",
    "- Exercise 1:\n",
    "- Exercise 2:"
   ]
  },
  {
   "cell_type": "code",
   "execution_count": 1,
   "metadata": {},
   "outputs": [
    {
     "name": "stderr",
     "output_type": "stream",
     "text": [
      "[nltk_data] Downloading package punkt to\n",
      "[nltk_data]     C:\\Users\\Administrator\\nlp_offline\\nltk_data...\n",
      "[nltk_data]   Package punkt is already up-to-date!\n",
      "[nltk_data] Downloading package stopwords to\n",
      "[nltk_data]     C:\\Users\\Administrator\\nlp_offline\\nltk_data...\n",
      "[nltk_data]   Package stopwords is already up-to-date!\n",
      "[nltk_data] Downloading package wordnet to\n",
      "[nltk_data]     C:\\Users\\Administrator\\nlp_offline\\nltk_data...\n",
      "[nltk_data]   Package wordnet is already up-to-date!\n"
     ]
    },
    {
     "data": {
      "text/plain": [
       "True"
      ]
     },
     "execution_count": 1,
     "metadata": {},
     "output_type": "execute_result"
    }
   ],
   "source": [
    "import nltk\n",
    "nltk.download('punkt')       # for tokenization\n",
    "nltk.download('stopwords')   # for stopword lists\n",
    "nltk.download('wordnet')     # for lemmatization\n"
   ]
  },
  {
   "cell_type": "markdown",
   "metadata": {},
   "source": [
    "# 1. Tokenization"
   ]
  },
  {
   "cell_type": "code",
   "execution_count": 2,
   "metadata": {},
   "outputs": [
    {
     "name": "stdout",
     "output_type": "stream",
     "text": [
      "['Natural', 'Language', 'Processing', 'is', 'amazing', '!', 'import', 'word', 'tokenize']\n"
     ]
    }
   ],
   "source": [
    "\n",
    "from nltk.tokenize import word_tokenize\n",
    "text = \"Natural Language Processing is amazing! import word tokenize\"\n",
    "tokens = word_tokenize(text)\n",
    "print(tokens)\n",
    "# ['Natural', 'Language', 'Processing', 'is', 'amazing', '!']"
   ]
  },
  {
   "cell_type": "markdown",
   "metadata": {},
   "source": [
    "# 2.Stop Word removal\n",
    "- Stopwords are very common words in a language that do not add much meaning to a sentence.\n",
    "- Examples in English: the, is, at, in, and, on, a, an...\n",
    "- When analyzing text, we often remove these words to focus on the important words that carry meaning.\n",
    "\n",
    "# Why?\n",
    "- To reduce noise in the data.\n",
    "- To make the model faster and more accurate.\n",
    "- Because stopwords appear too often and don’t help classification or understanding."
   ]
  },
  {
   "cell_type": "code",
   "execution_count": 2,
   "metadata": {},
   "outputs": [
    {
     "name": "stdout",
     "output_type": "stream",
     "text": [
      "['simple', 'example', 'stop', 'word', 'removal', 'NLP', '.']\n"
     ]
    }
   ],
   "source": [
    "from nltk.corpus import stopwords\n",
    "from nltk.tokenize import word_tokenize\n",
    "\n",
    "text = \"This is a simple example of stop word removal in NLP.\"\n",
    "words = word_tokenize(text)\n",
    "filtered = []\n",
    "for w in words:\n",
    "    if w.lower() not in stopwords.words('english'):\n",
    "        filtered.append(w)\n",
    "print(filtered)\n",
    "# Output: ['simple', 'example', 'stop', 'word', 'removal', 'NLP', '.']"
   ]
  },
  {
   "cell_type": "markdown",
   "metadata": {
    "slideshow": {
     "slide_type": "slide"
    }
   },
   "source": [
    "# 3. Text Normalization\n",
    "\n",
    "We use lots of variations for same words for examples user might express love in different ways `[lovely, luv, loveee, ...]` all these are the essentially the same to a machine learning model that tries to find out if a review is positive or negative.\n",
    "\n",
    "So in this notebook we will discuss some methods to reduce text variations."
   ]
  },
  {
   "cell_type": "markdown",
   "metadata": {
    "slideshow": {
     "slide_type": "slide"
    }
   },
   "source": [
    "# 3.1 Stemming\n",
    "\n",
    "Stemming reduce the text by a set of pre-defined rules like removing `ing` from verbs"
   ]
  },
  {
   "cell_type": "code",
   "execution_count": 3,
   "metadata": {
    "ExecuteTime": {
     "end_time": "2021-11-07T13:31:48.380268Z",
     "start_time": "2021-11-07T13:31:48.364026Z"
    },
    "slideshow": {
     "slide_type": "fragment"
    }
   },
   "outputs": [
    {
     "name": "stdout",
     "output_type": "stream",
     "text": [
      "caress, fli, die, mule, deni, die, agre, own, humbl, size, meet, state, siez, item, sensat, tradit, refer, colon, plot\n"
     ]
    }
   ],
   "source": [
    "from nltk.stem.porter import PorterStemmer\n",
    "\n",
    "stemmer = PorterStemmer()\n",
    "\n",
    "plurals = ['caresses', 'flies', 'dies', 'mules', 'denied',\n",
    "           'died', 'agreed', 'owned', 'humbled', 'sized',\n",
    "           'meeting', 'stating', 'siezing', 'itemization',\n",
    "           'sensational', 'traditional', 'reference', 'colonizer',\n",
    "           'plotted']\n",
    "\n",
    "#singles = [stemmer.stem(plural) for plural in plurals]\n",
    "singles = []\n",
    "for plural in plurals:\n",
    "    single = stemmer.stem(plural)\n",
    "    singles.append(single)\n",
    "\n",
    "print(', '.join(singles))"
   ]
  },
  {
   "cell_type": "markdown",
   "metadata": {
    "slideshow": {
     "slide_type": "slide"
    }
   },
   "source": [
    "# Snowball stemmer support different languages"
   ]
  },
  {
   "cell_type": "code",
   "execution_count": 4,
   "metadata": {
    "ExecuteTime": {
     "end_time": "2021-11-07T13:33:33.369154Z",
     "start_time": "2021-11-07T13:33:33.360661Z"
    },
    "slideshow": {
     "slide_type": "fragment"
    }
   },
   "outputs": [
    {
     "name": "stdout",
     "output_type": "stream",
     "text": [
      "arabic, danish, dutch, english, finnish, french, german, hungarian, italian, norwegian, porter, portuguese, romanian, russian, spanish, swedish\n"
     ]
    }
   ],
   "source": [
    "from nltk.stem.snowball import SnowballStemmer\n",
    "\n",
    "print(\", \".join(SnowballStemmer.languages))"
   ]
  },
  {
   "cell_type": "code",
   "execution_count": 8,
   "metadata": {
    "ExecuteTime": {
     "end_time": "2021-11-07T13:36:37.247468Z",
     "start_time": "2021-11-07T13:36:37.236091Z"
    },
    "slideshow": {
     "slide_type": "fragment"
    }
   },
   "outputs": [
    {
     "data": {
      "text/plain": [
       "'جو سماوه صاف'"
      ]
     },
     "execution_count": 8,
     "metadata": {},
     "output_type": "execute_result"
    }
   ],
   "source": [
    "ar_stemmer = SnowballStemmer(\"arabic\")\n",
    "ar_stemmer.stem(\"الجو سماؤه صافية\")"
   ]
  },
  {
   "cell_type": "markdown",
   "metadata": {
    "slideshow": {
     "slide_type": "slide"
    }
   },
   "source": [
    "# 3.2 Lemmatization\n",
    "\n",
    "Lemmatizer reduce the word by looking it up in the `WordNet` where it tries to find the root of the word for example `rocks` -> `rock`"
   ]
  },
  {
   "cell_type": "code",
   "execution_count": 2,
   "metadata": {
    "ExecuteTime": {
     "end_time": "2021-11-07T13:38:43.068993Z",
     "start_time": "2021-11-07T13:38:41.717494Z"
    },
    "slideshow": {
     "slide_type": "fragment"
    }
   },
   "outputs": [
    {
     "name": "stdout",
     "output_type": "stream",
     "text": [
      "rocks : rock\n",
      "corpora : corpus\n",
      "cars : car\n",
      "running : run\n",
      "better : good\n",
      "more quickly : more quickly\n"
     ]
    }
   ],
   "source": [
    "#nltk.download('wordnet')\n",
    "# import these modules\n",
    "from nltk.stem import WordNetLemmatizer\n",
    "\n",
    "lemmatizer = WordNetLemmatizer()\n",
    "\n",
    "print(\"rocks :\", lemmatizer.lemmatize(\"rocks\"))\n",
    "print(\"corpora :\", lemmatizer.lemmatize(\"corpora\"))\n",
    "\n",
    "# a denotes adjective in \"pos\"\n",
    "\"\"\"\n",
    "Parameter\tMeaning\t       Example\n",
    "pos=\"n\"\t    Noun\t    \"cars\" → \"car\"\n",
    "pos=\"v\"\t    Verb\t    \"running\" → \"run\"\n",
    "pos=\"a\"\t    Adjective\t\"better\" → \"good\"\n",
    "pos=\"r\"\t    Adverb\t    \"more quickly\" → \"quickly\"\n",
    "\"\"\"\n",
    "print(\"cars :\", lemmatizer.lemmatize(\"cars\", pos =\"n\"))\n",
    "print(\"running :\", lemmatizer.lemmatize(\"running\", pos =\"v\"))\n",
    "print(\"better :\", lemmatizer.lemmatize(\"better\", pos =\"a\"))\n",
    "print(\"more quickly :\", lemmatizer.lemmatize(\"more quickly\", pos =\"r\"))"
   ]
  },
  {
   "cell_type": "markdown",
   "metadata": {
    "slideshow": {
     "slide_type": "slide"
    }
   },
   "source": [
    "# Lemmatization vs Stemming\n",
    "\n",
    "The key concept here is that stemming sometime destroy the word unlike lemmatization where we keep the meaning."
   ]
  },
  {
   "cell_type": "markdown",
   "metadata": {},
   "source": [
    "# 4. Lowercasing, punctuation removal "
   ]
  },
  {
   "cell_type": "markdown",
   "metadata": {},
   "source": [
    "# 4.1. Lowercasing\n",
    "Lowercasing means converting all letters in the text to lowercase.\n",
    "This helps keep text consistent — for example, “Apple” and “apple” should be treated the same."
   ]
  },
  {
   "cell_type": "code",
   "execution_count": 5,
   "metadata": {},
   "outputs": [
    {
     "name": "stdout",
     "output_type": "stream",
     "text": [
      "natural language processing is amazing!\n",
      "Natural Language Processing IS Amazing!\n"
     ]
    }
   ],
   "source": [
    "text = \"Natural Language Processing IS Amazing!\"\n",
    "lower_text = text.lower()\n",
    "print(lower_text)\n",
    "print(text)\n",
    "# natural language processing is amazing!"
   ]
  },
  {
   "cell_type": "markdown",
   "metadata": {},
   "source": [
    "# 4.2 Punctuation \n",
    "Punctuation marks (like . , ! ?) usually do not add meaning in most NLP tasks.\n",
    "Removing them simplifies the text."
   ]
  },
  {
   "cell_type": "code",
   "execution_count": 11,
   "metadata": {},
   "outputs": [
    {
     "name": "stdout",
     "output_type": "stream",
     "text": [
      "Hello world NLP is fun \n"
     ]
    }
   ],
   "source": [
    "import string\n",
    "text = \"Hello, world!!! NLP is fun :)\"\n",
    "clean_text = text.translate(str.maketrans('', '', string.punctuation))\n",
    "print(clean_text)\n",
    "# Hello world NLP is fun"
   ]
  },
  {
   "cell_type": "markdown",
   "metadata": {},
   "source": [
    "# Exercise: Clean a text corpus and visualize word frequencies\n",
    "\n",
    "# Steps Overview\n",
    "- Load the text corpus (dataset or paragraph).\n",
    "- Normalize text: lowercase, remove punctuation, numbers, etc.\n",
    "- Tokenize: split text into words.\n",
    "- Remove stopwords: filter out common words (e.g., “the”, “is”, “in”).\n",
    "- Visualize word frequencies using a bar chart or word cloud."
   ]
  },
  {
   "cell_type": "code",
   "execution_count": 13,
   "metadata": {},
   "outputs": [
    {
     "name": "stdout",
     "output_type": "stream",
     "text": [
      "[('language', 5), ('natural', 4), ('processing', 4), ('nlp', 2), ('fascinating', 1), ('field', 1), ('artificial', 1), ('intelligence', 1), ('helps', 1), ('machines', 1)]\n"
     ]
    },
    {
     "data": {
      "image/png": "[encoded data removed]",
      "text/plain": [
       "<Figure size 800x500 with 1 Axes>"
      ]
     },
     "metadata": {},
     "output_type": "display_data"
    }
   ],
   "source": [
    "# Step 1: Import Libraries\n",
    "import nltk\n",
    "from nltk.corpus import stopwords\n",
    "from nltk.tokenize import word_tokenize\n",
    "import string\n",
    "from collections import Counter\n",
    "import matplotlib.pyplot as plt\n",
    "\n",
    "# Download required resources (only once)\n",
    "#nltk.download('punkt')\n",
    "#nltk.download('stopwords')\n",
    "\n",
    "# Step 2: Load Text\n",
    "text = \"\"\"\n",
    "Natural Language Processing (NLP) is a fascinating field of Artificial Intelligence.\n",
    "It helps machines understand and process human language effectively.\n",
    "NLP has many applications such as translation, chatbots, and sentiment analysis .\n",
    "Natural Language Processing Natural Language Processing Natural Language Processing\n",
    "\"\"\"\n",
    "\n",
    "# Step 3: Lowercasing\n",
    "text = text.lower()\n",
    "\n",
    "# Step 4: Remove punctuation\n",
    "text = text.translate(str.maketrans('', '', string.punctuation))\n",
    "\n",
    "# Step 5: Tokenization\n",
    "tokens = word_tokenize(text)\n",
    "\n",
    "# Step 6: Remove stopwords\n",
    "stop_words = set(stopwords.words('english'))\n",
    "#filtered_tokens = [word for word in tokens if word not in stop_words and word.isalpha()]\n",
    "filtered_tokens = []\n",
    "for word in tokens:\n",
    "    if word not in stop_words and word.isalpha():\n",
    "        filtered_tokens.append(word)\n",
    "\n",
    "# Step 7: Count word frequencies\n",
    "word_freq = Counter(filtered_tokens)\n",
    "\n",
    "# Step 8: Display 10 most common words\n",
    "print(word_freq.most_common(10))\n",
    "\n",
    "# Step 9: Visualization\n",
    "plt.figure(figsize=(8,5))\n",
    "plt.bar(*zip(*word_freq.most_common(10)))\n",
    "plt.title(\"Top 10 Most Frequent Words\")\n",
    "plt.xlabel(\"Words\")\n",
    "plt.ylabel(\"Frequency\")\n",
    "plt.show()"
   ]
  },
  {
   "cell_type": "markdown",
   "metadata": {},
   "source": [
    "# Exercise 2: \n",
    "Write a Python program to perform a basic sentiment analysis on a list of text sentences.\n",
    "\n",
    "# Steps Overview:\n",
    "- Create a small dataset of sentences containing positive and negative emotions.\n",
    "- Clean the text by converting it to lowercase and tokenizing the words.\n",
    "- Define two simple word lists — one for positive words and one for negative words.\n",
    "- Count how many positive and negative words appear in each sentence.\n",
    "- Classify each sentence as Positive, Negative, or Neutral based on the counts.\n",
    "- Visualize the sentiment distribution using a simple bar chart.\n",
    "\n",
    "# Expected Output:\n",
    "- A printed list of sentences with their predicted sentiment label.\n",
    "- A bar chart showing how many sentences are Positive, Negative, and Neutral."
   ]
  }
 ],
 "metadata": {
  "celltoolbar": "Slideshow",
  "kernelspec": {
   "display_name": "Python [conda env:base] *",
   "language": "python",
   "name": "conda-base-py"
  },
  "language_info": {
   "codemirror_mode": {
    "name": "ipython",
    "version": 3
   },
   "file_extension": ".py",
   "mimetype": "text/x-python",
   "name": "python",
   "nbconvert_exporter": "python",
   "pygments_lexer": "ipython3",
   "version": "3.12.7"
  }
 },
 "nbformat": 4,
 "nbformat_minor": 4
}
