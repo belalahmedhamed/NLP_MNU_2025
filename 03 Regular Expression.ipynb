{
 "cells": [
  {
   "cell_type": "markdown",
   "metadata": {
    "slideshow": {
     "slide_type": "slide"
    }
   },
   "source": [
    "# Regular Expressions\n",
    "\n",
    "- A regular expression, regex or regexp (sometimes called a rational expression) is, in theoretical computer science and formal language theory, a sequence of characters that define a search pattern. \n",
    "- Usually this pattern is then used by `string` searching algorithms for \"find\" or \"find and replace\" operations on strings, or for input validation.\n",
    "\n",
    "- The concept arose in the 1950s when the American mathematician Stephen Cole Kleene formalized the description of a regular language.\n",
    "- The concept came into common use with `Unix` text-processing utilities.\n",
    "- Since the 1980s, different syntaxes for writing regular expressions exist, one being the POSIX standard and another, widely used, being the Perl syntax."
   ]
  },
  {
   "cell_type": "markdown",
   "metadata": {},
   "source": [
    "<h1 align=center>RegEx in Python</h1>"
   ]
  },
  {
   "cell_type": "markdown",
   "metadata": {},
   "source": [
    " [python documentation](https://docs.python.org/2/library/re.html#regular-expression-syntax)"
   ]
  },
  {
   "cell_type": "markdown",
   "metadata": {},
   "source": [
    "[RegEx 101](https://regex101.com/)"
   ]
  },
  {
   "cell_type": "markdown",
   "metadata": {},
   "source": [
    "### 🔹 *What is Regex?*\n",
    "\n",
    "*Regular Expression (Regex)*: is a sequence of characters that forms a search pattern.\n",
    "\n",
    "It is used to `find`, `match`, and `manipulate` strings.\n",
    "\n",
    "Example:\n",
    "- Pattern: \\d+\n",
    "- Meaning: \"one or more digits\".\n",
    "- Text: \"I have 12 apples\" → Match: 12.\n",
    "\n",
    "### 🔹 *Why use Regex?*\n",
    "- To search inside text.\n",
    "- To validate inputs (emails, phone numbers, passwords).\n",
    "- To clean or extract information from text.\n",
    "- To perform substitutions or formatting.\n",
    "\n",
    "\n",
    "### *Regex is a powerful tool in Python for string searching, validation, and text manipulation using patterns.*"
   ]
  },
  {
   "cell_type": "markdown",
   "metadata": {},
   "source": [
    "### Regex Module\n",
    "python provide module for regex called `re`\n",
    "\n",
    "most used functions:\n",
    "- sub() → Replace text.\n",
    "- findall() → Return all matches.\n",
    "- match() → Match only at the start.\n",
    "- search() → Find first match anywhere.\n",
    "- compile() → Save a regex pattern for reuse."
   ]
  },
  {
   "cell_type": "markdown",
   "metadata": {
    "slideshow": {
     "slide_type": "slide"
    }
   },
   "source": [
    "## Regex in Python\n",
    "\n",
    "python provide module for regex called `re`\n",
    "\n",
    "we are going to use the `findall` and `sub` functions"
   ]
  },
  {
   "cell_type": "code",
   "execution_count": 1,
   "metadata": {
    "ExecuteTime": {
     "end_time": "2021-11-07T11:21:00.622234Z",
     "start_time": "2021-11-07T11:21:00.609972Z"
    },
    "slideshow": {
     "slide_type": "fragment"
    }
   },
   "outputs": [
    {
     "data": {
      "text/plain": [
       "'my name is Ali Mohamed Ali'"
      ]
     },
     "execution_count": 1,
     "metadata": {},
     "output_type": "execute_result"
    }
   ],
   "source": [
    "import re\n",
    "\n",
    "text = \"my name is Ahmed Mohamed Ahmed\"\n",
    "\n",
    "re.sub(\"Ahmed\", \"Ali\", text)"
   ]
  },
  {
   "cell_type": "code",
   "execution_count": 2,
   "metadata": {
    "ExecuteTime": {
     "end_time": "2021-11-07T11:21:04.652769Z",
     "start_time": "2021-11-07T11:21:04.649010Z"
    },
    "slideshow": {
     "slide_type": "fragment"
    }
   },
   "outputs": [
    {
     "data": {
      "text/plain": [
       "['Ahmed', 'Ahmed']"
      ]
     },
     "execution_count": 2,
     "metadata": {},
     "output_type": "execute_result"
    }
   ],
   "source": [
    "re.findall(\"Ahmed\", text)"
   ]
  },
  {
   "cell_type": "markdown",
   "metadata": {
    "slideshow": {
     "slide_type": "fragment"
    }
   },
   "source": [
    "here we used normal text for substitue and search, we can use a regex though !"
   ]
  },
  {
   "cell_type": "markdown",
   "metadata": {
    "slideshow": {
     "slide_type": "slide"
    }
   },
   "source": [
    "## Special Characters (Regular Expressions)\n",
    "\n",
    "some characters have special functions and are not just character, for example the `\\n` which indicate a newline and the `\\t` which is a tap space."
   ]
  },
  {
   "cell_type": "markdown",
   "metadata": {
    "slideshow": {
     "slide_type": "fragment"
    }
   },
   "source": [
    "### Basic patterns that match single chars\n",
    "\n",
    "| Character  | function |\n",
    "| ------------- | ------------- |\n",
    "| a-z, 0-9  | ordinary characters just match themselves exactly.|\n",
    "| . (dot)  | matches any single character except newline '\\n'  |\n",
    "| \\w | matches a \"word\" character: a letter or digit or underbar [a-zA-Z0-9_] |\n",
    "| \\W | matches any non-word character |\n",
    "| \\b | boundary between word and non-word |\n",
    "| \\s | matches a single whitespace character -- space, newline, return, tab |\n",
    "| \\S | matches any non-whitespace character |\n",
    "| \\t, \\n, \\r | tab, newline, return |\n",
    "| \\d | decimal digit [0-9] |\n",
    "| ^ | matches start of the string |\n",
    "| $ | match the end of the string |"
   ]
  },
  {
   "cell_type": "markdown",
   "metadata": {
    "slideshow": {
     "slide_type": "slide"
    }
   },
   "source": [
    "## Let's mix them with normal characters\n",
    "\n",
    "> note that we use `r` before the pattern string to let python know not to parse them, for example not to take \\n and replace it by newline."
   ]
  },
  {
   "cell_type": "code",
   "execution_count": 3,
   "metadata": {
    "slideshow": {
     "slide_type": "fragment"
    }
   },
   "outputs": [
    {
     "name": "stdout",
     "output_type": "stream",
     "text": [
      "[]\n",
      "['regular', 'regular', 'regular']\n"
     ]
    }
   ],
   "source": [
    "text = \"\"\"regular expression is a special sequence of characters \\\n",
    "that helps you match or find other strings or sets of strings, \\\n",
    "using regular expression pattern. regular expressions are widely used in UNIX world.\"\"\"\n",
    "\n",
    "print(re.findall(r\"^Regular\", text)) #^ regular in Start Text\n",
    "print(re.findall(r\"regular\", text)) #all found"
   ]
  },
  {
   "cell_type": "markdown",
   "metadata": {
    "slideshow": {
     "slide_type": "slide"
    }
   },
   "source": [
    "## Replace the first regular to a title case one"
   ]
  },
  {
   "cell_type": "code",
   "execution_count": 4,
   "metadata": {
    "slideshow": {
     "slide_type": "fragment"
    }
   },
   "outputs": [
    {
     "data": {
      "text/plain": [
       "'Regular expression is a special sequence of characters that helps you match or find other strings or sets of strings, using regular expression pattern. regular expressions are widely used in UNIX world.'"
      ]
     },
     "execution_count": 4,
     "metadata": {},
     "output_type": "execute_result"
    }
   ],
   "source": [
    "text = \"\"\"regular expression is a special sequence of characters \\\n",
    "that helps you match or find other strings or sets of strings, \\\n",
    "using regular expression pattern. regular expressions are widely used in UNIX world.\"\"\"\n",
    "\n",
    "re.sub(r\"^regular\", \"Regular\", text)"
   ]
  },
  {
   "cell_type": "markdown",
   "metadata": {
    "slideshow": {
     "slide_type": "slide"
    }
   },
   "source": [
    "# Lab 1 : Ends with number\n",
    "\n",
    "using regular expression write a script that check if a string ends with a numbe"
   ]
  },
  {
   "cell_type": "code",
   "execution_count": 7,
   "metadata": {
    "slideshow": {
     "slide_type": "fragment"
    }
   },
   "outputs": [
    {
     "name": "stdin",
     "output_type": "stream",
     "text": [
      "enter a string: Ali 123\n"
     ]
    },
    {
     "name": "stdout",
     "output_type": "stream",
     "text": [
      "['3']\n",
      "string ends with a number\n"
     ]
    }
   ],
   "source": [
    "text = input(\"enter a string:\").strip()\n",
    "\n",
    "result = re.findall(r\"[0-9]$\", text)\n",
    "print(result)\n",
    "\n",
    "\n",
    "if result:\n",
    "    print(\"string ends with a number\")\n",
    "else:\n",
    "    print(\"it is not\")"
   ]
  },
  {
   "cell_type": "markdown",
   "metadata": {
    "slideshow": {
     "slide_type": "slide"
    }
   },
   "source": [
    "# Lab 2 : Only Valid text\n",
    "\n",
    "write a script using regular expression to check if user input consists of only **`alphabet letters`**, **`number`** and **`_`**"
   ]
  },
  {
   "cell_type": "code",
   "execution_count": 20,
   "metadata": {
    "ExecuteTime": {
     "end_time": "2021-11-07T11:27:15.073066Z",
     "start_time": "2021-11-07T11:27:11.409811Z"
    },
    "slideshow": {
     "slide_type": "fragment"
    }
   },
   "outputs": [
    {
     "name": "stdin",
     "output_type": "stream",
     "text": [
      "enter your username: Ali.ahmed123\n"
     ]
    },
    {
     "name": "stdout",
     "output_type": "stream",
     "text": [
      "invalid username\n"
     ]
    }
   ],
   "source": [
    "username = input(\"enter your username:\").strip()\n",
    "\n",
    "invalid_input = re.findall(r\"[^a-zA-Z0-9_]\", username) # [^a-zA-Z0-9_]  == \\W\n",
    "\n",
    "if invalid_input:\n",
    "    print(\"invalid username\")\n",
    "else:\n",
    "    print(\"username {} is valid\".format(username))"
   ]
  },
  {
   "cell_type": "code",
   "execution_count": 11,
   "metadata": {},
   "outputs": [
    {
     "name": "stdin",
     "output_type": "stream",
     "text": [
      "enter your username: Ali.ahmed123\n"
     ]
    },
    {
     "name": "stdout",
     "output_type": "stream",
     "text": [
      "invalid username\n"
     ]
    }
   ],
   "source": [
    "username = input(\"enter your username:\").strip()\n",
    "\n",
    "invalid_input = re.findall(r\"\\W\", username) # [^a-zA-Z0-9_]  == \\W\n",
    "\n",
    "if invalid_input:\n",
    "    print(\"invalid username\")\n",
    "else:\n",
    "    print(\"username {} is valid\".format(username))"
   ]
  },
  {
   "cell_type": "markdown",
   "metadata": {
    "slideshow": {
     "slide_type": "slide"
    }
   },
   "source": [
    "## Building a bigger regular expression\n",
    "\n",
    "you can mix and match multiple expressions and have more than one instances of them\n",
    "\n",
    "| Example  | description |\n",
    "| --- | --- |\n",
    "| [Pp]ython | Match \"Python\" or \"python\" |\n",
    "| rub[ye] | Match \"ruby\" or \"rube\" |\n",
    "| [aeiou] | Match any one lowercase vowel |\n",
    "| [0-9] | Match any digit; same as [0123456789] |\n",
    "| [a-z] | Match any lowercase ASCII letter |\n",
    "| [A-Z] | Match any uppercase ASCII letter |\n",
    "| [a-zA-Z0-9] | Match any of the defined |\n",
    "| [^aeiou] | Match anything other than a lowercase vowel |\n",
    "| [^0-9] | Match anything other than a digit |\n",
    "\n",
    "> we can use **OR** to use multiple regex together.\n",
    "\n",
    "\n"
   ]
  },
  {
   "cell_type": "markdown",
   "metadata": {},
   "source": [
    "## Examples"
   ]
  },
  {
   "cell_type": "code",
   "execution_count": 8,
   "metadata": {},
   "outputs": [
    {
     "name": "stdout",
     "output_type": "stream",
     "text": [
      "[Pp]ython → ['Python', 'python']\n",
      "rub[ye] → ['ruby', 'rube']\n",
      "[aeiou] → ['o', 'a', 'o', 'a', 'e', 'a', 'a', 'i', 'u', 'u', 'e', 'o', 'o', 'e', 'u', 'a', 'i', 'o']\n",
      "[0-9] → ['2', '0', '2', '5', '1', '0', '1']\n",
      "\n",
      "[a-z] → ['y', 't', 'h', 'o', 'n', 'a', 'n', 'd', 'p', 'y', 't', 'h', 'o', 'n', 'a', 'r', 'e', 'a', 'm', 'a', 'z', 'i', 'n', 'g', 'r', 'u', 'b', 'y', 'r', 'u', 'b', 'e', 'o', 'o', 'm', 'e', 'd', 'u', 'c', 'a', 't', 'i', 'o', 'n']\n",
      "\n",
      "[A-Z] → ['P', 'A', 'I', 'R', 'B']\n",
      "\n",
      "[a-zA-Z0-9] → ['P', 'y', 't', 'h', 'o', 'n', 'a', 'n', 'd', 'p', 'y', 't', 'h', 'o', 'n', 'a', 'r', 'e', 'a', 'm', 'a', 'z', 'i', 'n', 'g', 'r', 'u', 'b', 'y', 'r', 'u', 'b', 'e', 'A', 'I', '2', '0', '2', '5', 'R', 'o', 'o', 'm', '1', '0', '1', 'B', 'e', 'd', 'u', 'c', 'a', 't', 'i', 'o', 'n']\n",
      "\n",
      "[^aeiou] → ['P', 'y', 't', 'h', 'n', ' ', 'n', 'd', ' ', 'p', 'y', 't', 'h', 'n', ' ', 'r', ' ', 'm', 'z', 'n', 'g', '!', ' ', 'r', 'b', 'y', ',', ' ', 'r', 'b', ',', ' ', 'A', 'I', '-', '2', '0', '2', '5', ',', ' ', 'R', 'm', ' ', '1', '0', '1', 'B', ',', ' ', 'd', 'c', 't', 'n', '.']\n",
      "\n",
      "[^0-9] → ['P', 'y', 't', 'h', 'o', 'n', ' ', 'a', 'n', 'd', ' ', 'p', 'y', 't', 'h', 'o', 'n', ' ', 'a', 'r', 'e', ' ', 'a', 'm', 'a', 'z', 'i', 'n', 'g', '!', ' ', 'r', 'u', 'b', 'y', ',', ' ', 'r', 'u', 'b', 'e', ',', ' ', 'A', 'I', '-', ',', ' ', 'R', 'o', 'o', 'm', ' ', 'B', ',', ' ', 'e', 'd', 'u', 'c', 'a', 't', 'i', 'o', 'n', '.']\n"
     ]
    }
   ],
   "source": [
    "import re\n",
    "\n",
    "# Text\n",
    "text = \"Python and python are amazing! ruby, rube, AI-2025, Room 101B, education.\"\n",
    "\n",
    "# 1. Match \"Python\" or \"python\"\n",
    "print(\"[Pp]ython →\", re.findall(r\"[Pp]ython\", text))\n",
    "\n",
    "# 2. Match \"ruby\" or \"rube\"\n",
    "print(\"rub[ye] →\", re.findall(r\"rub[ye]\", text))\n",
    "\n",
    "# 3. Match any one lowercase vowel(a, e, i, o, u)\n",
    "print(\"[aeiou] →\", re.findall(r\"[aeiou]\", text))\n",
    "\n",
    "# 4. Match any digit; same as [0123456789]\n",
    "print(\"[0-9] →\", re.findall(r\"[0-9]\", text))\n",
    "print()\n",
    "\n",
    "# 5. Match any lowercase ASCII letter\n",
    "print(\"[a-z] →\", re.findall(r\"[a-z]\", text))\n",
    "print()\n",
    "\n",
    "# 6. Match any uppercase ASCII letter\n",
    "print(\"[A-Z] →\", re.findall(r\"[A-Z]\", text))\n",
    "print()\n",
    "\n",
    "# 7. Match any of the defined (alphanumeric)\n",
    "print(\"[a-zA-Z0-9] →\", re.findall(r\"[a-zA-Z0-9]\", text))\n",
    "print()\n",
    "\n",
    "# 8. Match anything other than a lowercase vowel\n",
    "print(\"[^aeiou] →\", re.findall(r\"[^aeiou]\", text))\n",
    "print()\n",
    "\n",
    "# 9. Match anything other than a digit\n",
    "print(\"[^0-9] →\", re.findall(r\"[^0-9]\", text))"
   ]
  },
  {
   "cell_type": "markdown",
   "metadata": {},
   "source": [
    "## Example 2"
   ]
  },
  {
   "cell_type": "code",
   "execution_count": 9,
   "metadata": {
    "ExecuteTime": {
     "end_time": "2021-11-07T11:30:13.589177Z",
     "start_time": "2021-11-07T11:30:13.576608Z"
    },
    "slideshow": {
     "slide_type": "slide"
    }
   },
   "outputs": [
    {
     "name": "stdout",
     "output_type": "stream",
     "text": [
      "talking about python\n",
      "talking about python\n",
      "talking about python\n",
      "something else\n"
     ]
    }
   ],
   "source": [
    "texts = [\n",
    "  \"python is a great language\",\n",
    "  \"i lov to write in py\",\n",
    "  \"what a cool language Python is\",\n",
    "  \"the pyramids of giza are so huge!\"\n",
    "]\n",
    "\n",
    "\n",
    "for text in texts:\n",
    "    python_detected = re.findall(r\"[Pp]ython|\\b[Pp]y\\b\", text)\n",
    "    if python_detected:\n",
    "        print(\"talking about python\")\n",
    "    else:\n",
    "        print(\"something else\")"
   ]
  },
  {
   "cell_type": "markdown",
   "metadata": {
    "slideshow": {
     "slide_type": "slide"
    }
   },
   "source": [
    "## Repetition Cases\n",
    "\n",
    "| Example | description |\n",
    "| --- | --- |\n",
    "| happy? | Match \"happ\" or \"happy\": the y is optional |\n",
    "| happy* | Match \"happ\" plus 0 or more y(s) |\n",
    "| happy+ | Match \"happ\" plus 1 or more y(s) |\n",
    "| \\d{3} | Match exactly 3 digits |\n",
    "| \\d{3,} | Match 3 or more digits |\n",
    "| \\d{3,5} | Match 3, 4, or 5 digits |"
   ]
  },
  {
   "cell_type": "markdown",
   "metadata": {},
   "source": [
    "## Example:"
   ]
  },
  {
   "cell_type": "code",
   "execution_count": 10,
   "metadata": {
    "slideshow": {
     "slide_type": "fragment"
    }
   },
   "outputs": [
    {
     "name": "stdout",
     "output_type": "stream",
     "text": [
      "['2', '0', '1', '8']\n",
      "['2018']\n",
      "['', '', '', '', '', '2018', '', '', '', '', '', '', '', '', '', '', '', '', '', '', '', '', '', '']\n",
      "['2018']\n"
     ]
    }
   ],
   "source": [
    "text = \"it's 2018, happy new year!\"\n",
    "\n",
    "print(re.findall(r\"\\d\", text)) #\\d  \\d*  \\d+  d{4}\n",
    "print(re.findall(r\"\\d+\", text))\n",
    "print(re.findall(r\"\\d*\", text))\n",
    "print(re.findall(r\"\\d{4}\", text))"
   ]
  },
  {
   "cell_type": "markdown",
   "metadata": {
    "slideshow": {
     "slide_type": "slide"
    }
   },
   "source": [
    "## Let's replace numbers with NUM"
   ]
  },
  {
   "cell_type": "code",
   "execution_count": 26,
   "metadata": {
    "slideshow": {
     "slide_type": "fragment"
    }
   },
   "outputs": [
    {
     "name": "stdout",
     "output_type": "stream",
     "text": [
      "this is a text tweet that containsmultiple numbers  PHONE ,  NUM  and  PHONE \n"
     ]
    }
   ],
   "source": [
    "text = \"this is a text tweet that contains\\\n",
    "multiple numbers 01112131411, 012121212 and 01010101010\"\n",
    "\n",
    "new_text = re.sub(r\"\\d{11}\", \" PHONE \", text)\n",
    "new_text = re.sub(r\"\\d+\", \" NUM \", new_text)\n",
    "print(new_text)"
   ]
  },
  {
   "cell_type": "markdown",
   "metadata": {
    "slideshow": {
     "slide_type": "slide"
    }
   },
   "source": [
    "## Search groups\n",
    "\n",
    "you can create a search groups with regex and retrieve each one with `search()` function"
   ]
  },
  {
   "cell_type": "code",
   "execution_count": 5,
   "metadata": {
    "scrolled": true
   },
   "outputs": [
    {
     "name": "stdout",
     "output_type": "stream",
     "text": [
      "['']\n",
      "['$', '$', '$', '$', '$', '$']\n",
      "['t', 'h', 'i', 's', ' ', 'i', 's', ' ', 'a', ' ', 's', 't', 'r', 'i', 'n', 'g', '$', '$', '.', 't', 'h', 'i', 's', ' ', 'i', 's', ' ', 'a', ' ', 's', 't', 'r', 'i', 'n', 'g', '$', '$', '.', 't', 'h', 'i', 's', ' ', 'i', 's', ' ', 'a', ' ', 's', 't', 'r', 'i', 'n', 'g', '$', '$', '.', 'T', 'h', 'i', 's', ' ', 'i', 's', ' ', 'a', 'n', 'o', 't', 'h', 'e', 'r', ' ', 'o', 'n', 'e']\n",
      "['.', '.', '.']\n",
      "['t', 'h', 'i', 's', 'i', 's', 's', 't', 'i', 't', 'h', 'i', 's', 'i', 's', 's', 't', 'i', 't', 'h', 'i', 's', 'i', 's', 's', 't', 'i', 'h', 'i', 's', 'i', 's', 't', 'h']\n",
      "['this', 'this', 'this']\n"
     ]
    }
   ],
   "source": [
    "import re\n",
    "# Note that () is meaning match as arrange\n",
    "# but [] is meaninig not match as arrange\n",
    "text = \"\"\"this is a string$$.\n",
    "this is a string$$.\n",
    "this is a string$$.\n",
    "This is another one\"\"\"\n",
    "print(re.findall(\"$\", text))\n",
    "print(re.findall(r\"\\$\", text))\n",
    "print(re.findall(\".\", text))\n",
    "print(re.findall(r\"\\.\", text))\n",
    "print(re.findall(\"[this]\", text))\n",
    "print(re.findall(\"(this)\", text))"
   ]
  },
  {
   "cell_type": "markdown",
   "metadata": {},
   "source": [
    "## Match Email Example"
   ]
  },
  {
   "cell_type": "code",
   "execution_count": 28,
   "metadata": {
    "ExecuteTime": {
     "end_time": "2021-11-07T11:31:47.693666Z",
     "start_time": "2021-11-07T11:31:47.679953Z"
    },
    "slideshow": {
     "slide_type": "fragment"
    }
   },
   "outputs": [
    {
     "name": "stdout",
     "output_type": "stream",
     "text": [
      "support@datacamp.com\n",
      "support\n",
      "datacamp\n",
      "com\n"
     ]
    }
   ],
   "source": [
    "email_address = 'Please contact us at: support@datacamp.com  support1@datacamp.com support2@datacamp.com'\n",
    "match = re.search(r'([\\w\\.-]+)@([\\w\\.-]+).(\\w{3})', email_address)\n",
    "if match:\n",
    "    print(match.group()) # The whole matched text\n",
    "    print(match.group(1)) # The username (group 1)\n",
    "    print(match.group(2)) # The host (group 2)\n",
    "    print(match.group(3)) # The host (group 3)"
   ]
  },
  {
   "cell_type": "markdown",
   "metadata": {
    "slideshow": {
     "slide_type": "slide"
    }
   },
   "source": [
    "## `match` vs `search`\n",
    "\n",
    "The `match()` function checks for a match only at the beginning of the string whereas the `search()` function checks for a match anywhere in the string."
   ]
  },
  {
   "cell_type": "markdown",
   "metadata": {
    "slideshow": {
     "slide_type": "slide"
    }
   },
   "source": [
    "## The `re.compile()`\n",
    "\n",
    "we can compile a regular expression instead of writing it multiple time"
   ]
  },
  {
   "cell_type": "code",
   "execution_count": 13,
   "metadata": {
    "slideshow": {
     "slide_type": "fragment"
    }
   },
   "outputs": [
    {
     "name": "stdout",
     "output_type": "stream",
     "text": [
      "['example.name@company.org']\n",
      "['my-email55@yahoo.com']\n",
      "['shortmail@long-company.net']\n"
     ]
    }
   ],
   "source": [
    "mail_re = re.compile(r\"[\\w\\.-]+@[\\w\\.-]+\\.[\\w\\.-]+\")\n",
    "\n",
    "mails = [\n",
    "    \"this is a message with an email of:example.name@company.org\",\n",
    "    \"my-email55@yahoo.com is the email you would like to use\",\n",
    "    \"send me an email at:shortmail@long-company.net\"\n",
    "]\n",
    "\n",
    "for mail in mails:\n",
    "    print(mail_re.findall(mail))"
   ]
  },
  {
   "cell_type": "markdown",
   "metadata": {
    "slideshow": {
     "slide_type": "slide"
    }
   },
   "source": [
    "# Lab 3 : Extract Hashtags\n",
    "\n",
    "Write a script to extract a hashtag from tweet."
   ]
  },
  {
   "cell_type": "code",
   "execution_count": 11,
   "metadata": {
    "ExecuteTime": {
     "end_time": "2021-11-07T11:34:39.185590Z",
     "start_time": "2021-11-07T11:34:39.182456Z"
    },
    "scrolled": true,
    "slideshow": {
     "slide_type": "fragment"
    }
   },
   "outputs": [
    {
     "name": "stdout",
     "output_type": "stream",
     "text": [
      "['#HASHTAG', '#cool', '#هاشتاج']\n"
     ]
    }
   ],
   "source": [
    "import re\n",
    "tweet = \"a tweet with no hashtag, but a #HASHTAG and another #cool one #هاشتاج\"\n",
    "\n",
    "hashtags = re.findall(r\"#\\S+\", tweet)\n",
    "\n",
    "if hashtags:\n",
    "    print(hashtags)\n",
    "else:\n",
    "    print(\"no hashtags found\")"
   ]
  },
  {
   "cell_type": "markdown",
   "metadata": {},
   "source": [
    "# Excecise 1:\n",
    "- Extract Information from Text\n",
    "    - Write regex patterns to extract the following from the paragraph below:\n",
    "        - All email addresses\n",
    "        - All dates in format DD/MM/YYYY or DD-MM-YYYY\n",
    "        - All numbers greater than or equal to 100\n",
    "        - # Text Example:\n",
    "            - Contact us at info@company.com or sales@shop.org. Our next event is on 25-10-2025, and registration closes 15/10/2025.  We already have 120 participants and 99 seats left!\n",
    "\n",
    "# Excecise 2:\n",
    "- Clean and Analyze Social Media Text\n",
    "    - Given the text below, use regex to:\n",
    "        - Remove all punctuation.\n",
    "        - Extract all hashtags (#word).\n",
    "        - Extract all mentions (@username).\n",
    "        - # Text Example:\n",
    "            - \"Great session on #AI and #NLP today! Follow @DataLab and @AI_Community for updates.\""
   ]
  },
  {
   "cell_type": "markdown",
   "metadata": {},
   "source": [
    "# Example Text From Teslat\n",
    "\n",
    "Elon musk's phone number is 9991116666, call him if you have any questions on dodgecoin. \n",
    "Tesla's revenue is 40 billion\n",
    "Tesla's CFO number (999)-333-7777\n",
    "\n",
    "Please contact us at: support@Tesla.com\n",
    "\n",
    "Note 1 - Overview\n",
    "Tesla, Inc. (“Tesla”, the “Company”, “we”, “us” or “our”) was incorporated in the State of Delaware on July 1, 2003. We design, develop, manufacture and sell high-performance fully electric vehicles and design, manufacture, install and sell solar energy generation and energy storage\n",
    "products. Our Chief Executive Officer, as the chief operating decision maker (“CODM”), organizes our company, manages resource allocations and measures performance among two operating and reportable segments: (i) automotive and (ii) energy generation and storage.\n",
    "Beginning in the first quarter of 2021, there has been a trend in many parts of the world of increasing availability and administration of vaccines\n",
    "against COVID-19, as well as an easing of restrictions on social, business, travel and government activities and functions. On the other hand, infection\n",
    "rates and regulations continue to fluctuate in various regions and there are ongoing global impacts resulting from the pandemic, including challenges\n",
    "and increases in costs for logistics and supply chains, such as increased port congestion, intermittent supplier delays and a shortfall of semiconductor\n",
    "supply. We have also previously been affected by temporary manufacturing closures, employment and compensation adjustments and impediments to\n",
    "administrative activities supporting our product deliveries and deployments.\n",
    "Note 2 - Summary of Significant Accounting Policies\n",
    "Unaudited Interim Financial Statements\n",
    "The consolidated balance sheet as of September 30, 2021, the consolidated statements of operations, the consolidated statements of\n",
    "comprehensive income, the consolidated statements of redeemable noncontrolling interests and equity for the three and nine months ended September\n",
    "30, 2021 and 2020 and the consolidated statements of cash flows for the nine months ended September 30, 2021 and 2020, as well as other information\n",
    "disclosed in the accompanying notes, are unaudited. The consolidated balance sheet as of December 31, 2020 was derived from the audited\n",
    "consolidated financial statements as of that date. The interim consolidated financial statements and the accompanying notes should be read in\n",
    "conjunction with the annual consolidated financial statements and the accompanying notes contained in our Annual Report on Form 10-K for the year\n",
    "ended December 31, 2020.\n",
    "\n",
    "Thanks\n",
    "Belal A. Hamed \n",
    "belalahmed.h7@gmail.com"
   ]
  },
  {
   "cell_type": "code",
   "execution_count": null,
   "metadata": {},
   "outputs": [],
   "source": []
  }
 ],
 "metadata": {
  "celltoolbar": "Slideshow",
  "kernelspec": {
   "display_name": "Python [conda env:base] *",
   "language": "python",
   "name": "conda-base-py"
  },
  "language_info": {
   "codemirror_mode": {
    "name": "ipython",
    "version": 3
   },
   "file_extension": ".py",
   "mimetype": "text/x-python",
   "name": "python",
   "nbconvert_exporter": "python",
   "pygments_lexer": "ipython3",
   "version": "3.12.7"
  }
 },
 "nbformat": 4,
 "nbformat_minor": 4
}
